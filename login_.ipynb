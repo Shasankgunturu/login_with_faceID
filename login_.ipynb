{
 "cells": [
  {
   "cell_type": "code",
   "execution_count": 1,
   "id": "5ecd50a8",
   "metadata": {},
   "outputs": [],
   "source": [
    "import cv2 as cv\n",
    "import pandas as pd\n",
    "from datetime import datetime\n",
    "from datetime import date\n",
    "import face_recognition\n",
    "import os\n",
    "from csv import DictWriter\n",
    "from getpass import getpass"
   ]
  },
  {
   "cell_type": "code",
   "execution_count": 2,
   "id": "c7ab5d27",
   "metadata": {},
   "outputs": [],
   "source": [
    "# shit to add later on in the code\n",
    "# add new user - get image, id and password\n",
    "# change password/ forgot password\n",
    "\n",
    "entries=pd.DataFrame(columns=[\"ID\",\"Time of Entry\",\"Date\",\"Entry by\"])\n",
    "# entries.to_csv('Entries.csv', index=False)\n"
   ]
  },
  {
   "cell_type": "code",
   "execution_count": 9,
   "id": "95a0a105",
   "metadata": {},
   "outputs": [],
   "source": [
    "# function to entries dataframe - works\n",
    "\n",
    "def worthyEntrance(ID, choice):\n",
    "    is_choice = \"\"\n",
    "    if choice == \"1\":\n",
    "        is_choice = \"face_ID\"\n",
    "    else:\n",
    "        is_choice = \"password\"\n",
    "    today = date.today()\n",
    "    now = datetime.now()\n",
    "    current_time = now.strftime(\"%H:%M:%S\")\n",
    "    \n",
    "    dict = {'ID': ID, 'Time of Entry': current_time, 'Date': today,\n",
    "            'Entry by': is_choice}\n",
    "    with open('Entries.csv', 'a') as f_object:\n",
    "        dictwriter_object = DictWriter(f_object, fieldnames=entries)\n",
    "        dictwriter_object.writerow(dict)\n",
    "        f_object.close()"
   ]
  },
  {
   "cell_type": "code",
   "execution_count": 16,
   "id": "ba2fcf88",
   "metadata": {},
   "outputs": [],
   "source": [
    "# Reading and training images\n",
    "worthyNames = [] # a list of names who can enter\n",
    "worthyFaces = [] # a list of images who can enter\n",
    "path = 'worthy'\n",
    "worth = os.listdir(path)\n",
    "for ppl in worth:\n",
    "    temp = cv.imread(os.path.join(path,ppl))\n",
    "    worthyFaces.append(temp)\n",
    "    worthyNames.append(os.path.splitext(ppl)[0])\n",
    "    \n",
    "\n",
    "encodeList = []\n",
    "for image in worthyFaces:\n",
    "    image = cv.cvtColor(image, cv.COLOR_BGR2RGB)\n",
    "    #faces = face_recognition.face_locations(image)\n",
    "    encodes = face_recognition.face_encodings(image)[0]\n",
    "    encodeList.append(encodes)"
   ]
  },
  {
   "cell_type": "code",
   "execution_count": 5,
   "id": "d63bec95",
   "metadata": {},
   "outputs": [],
   "source": [
    "#read a csv file with user ID and passwords in choice 3 - works\n",
    "\n",
    "def check(ID, password):\n",
    "    id_pass = pd.read_csv('ID_PASS.csv')\n",
    "    for ind in id_pass.index:\n",
    "        if ID == id_pass['ID'][ind]:\n",
    "            if password == id_pass['passwords'][ind]:\n",
    "                return True\n",
    "    return False"
   ]
  },
  {
   "cell_type": "code",
   "execution_count": 6,
   "id": "77b1f972",
   "metadata": {},
   "outputs": [],
   "source": [
    "#checking the admin password - works\n",
    "def checkAdmin(password):\n",
    "    with open('adPass.txt') as f:\n",
    "        newline_breaks=\"\"\n",
    "        for line in f: \n",
    "            stripped_line = line.strip()\n",
    "            newline_breaks += stripped_line\n",
    "        f.close()\n",
    "    if password == newline_breaks:\n",
    "         return True\n",
    "    return False\n",
    "\n",
    "#show file\n",
    "\n",
    "def showEntries():\n",
    "    df = pd.read_csv('Entries.csv')\n",
    "    print(df.to_string()) "
   ]
  },
  {
   "cell_type": "code",
   "execution_count": 19,
   "id": "ffd6b386",
   "metadata": {},
   "outputs": [
    {
     "name": "stdout",
     "output_type": "stream",
     "text": [
      "What is your choice? Select: \n",
      "1. Entry with ID\n",
      "2. Check all the entries\n",
      "3. Enter with password\n",
      "4. Quit\n",
      "\n",
      "1\n",
      "What is your choice? Select: \n",
      "1. Entry with ID\n",
      "2. Check all the entries\n",
      "3. Enter with password\n",
      "4. Quit\n",
      "\n",
      "4\n"
     ]
    }
   ],
   "source": [
    "\n",
    "while True:\n",
    "    #User choices\n",
    "    print(\"What is your choice? Select: \\n\"+\"1. Entry with ID\\n\"+\"2. Check all the entries\\n\"+\"3. Enter with password\\n\"+\"4. Quit\\n\")\n",
    "    choice = input()\n",
    "    \n",
    "    if choice == \"4\":    \n",
    "        break\n",
    "\n",
    "    elif choice == \"3\":\n",
    "        for i in range(3,0,-1):\n",
    "            print(\"Enter your name: \")\n",
    "            ID = input()\n",
    "            print(\"\\nEnter you password: \")\n",
    "            password = getpass()\n",
    "            if check(ID, password):\n",
    "                print(\"\\nWelcome\\n\")\n",
    "                #checktime()\n",
    "                worthyEntrance(ID, choice)\n",
    "                break\n",
    "            else:\n",
    "                print(\"You have \",i-1,\" tries left\\n\")\n",
    "        #else:\n",
    "         #   restrictAccess(ID)\n",
    "                \n",
    "    elif choice == \"2\":\n",
    "        for i in range(3,0,-1):\n",
    "            print(\"Enter admin password: \\n\")\n",
    "            # passwordAdmin = \"\"\n",
    "            passwordAdmin = getpass()\n",
    "            if checkAdmin(passwordAdmin):\n",
    "                showEntries()\n",
    "                break\n",
    "            else:\n",
    "                print(\"You have \",i-1,\" tries left\")\n",
    " #        else:\n",
    " #             restrictAccess()\n",
    "\n",
    "    elif choice == \"1\":\n",
    "        webcam = cv.VideoCapture(0)\n",
    "        webcam.set(3, 640) #width\n",
    "        webcam.set(4, 480) #length\n",
    "        webcam.set(10, 100) #brightness\n",
    "        while True:\n",
    "            success, img = webcam.read()\n",
    "            img = cv.resize(img, (0, 0), fx=0.25, fy=0.25)\n",
    "            img = cv.cvtColor(img, cv.COLOR_BGR2RGB)\n",
    "            faceImg = face_recognition.face_locations(img)\n",
    "            encodes = face_recognition.face_encodings(img, faceImg)\n",
    "            areyouworthy=[]\n",
    "            for encode in encodes:\n",
    "                areyouworthy = face_recognition.compare_faces(encodeList, encode)\n",
    "            if True in areyouworthy:\n",
    "                worthyIndex = areyouworthy.index(True)\n",
    "                worthyEntrance(worthyNames[worthyIndex], choice)\n",
    "                break\n",
    "            if cv.waitKey(1) &0xFF == ord('q'):\n",
    "                break\n",
    "        webcam.release()\n",
    "        cv.destroyAllWindows()\n"
   ]
  },
  {
   "cell_type": "code",
   "execution_count": 8,
   "id": "a943c832",
   "metadata": {},
   "outputs": [
    {
     "name": "stdout",
     "output_type": "stream",
     "text": [
      "\n",
      "Thank you for your service\n"
     ]
    }
   ],
   "source": [
    "#closing service\n",
    "print(\"\\nThank you for your service\")"
   ]
  },
  {
   "cell_type": "code",
   "execution_count": null,
   "id": "6d142eac",
   "metadata": {},
   "outputs": [],
   "source": []
  },
  {
   "cell_type": "code",
   "execution_count": null,
   "id": "8e947fc4",
   "metadata": {},
   "outputs": [],
   "source": []
  }
 ],
 "metadata": {
  "kernelspec": {
   "display_name": "Python (new_env)",
   "language": "python",
   "name": "new_env"
  },
  "language_info": {
   "codemirror_mode": {
    "name": "ipython",
    "version": 3
   },
   "file_extension": ".py",
   "mimetype": "text/x-python",
   "name": "python",
   "nbconvert_exporter": "python",
   "pygments_lexer": "ipython3",
   "version": "3.6.13"
  }
 },
 "nbformat": 4,
 "nbformat_minor": 5
}
